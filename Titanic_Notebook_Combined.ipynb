{
 "cells": [
  {
   "cell_type": "markdown",
   "id": "8f49a8a9",
   "metadata": {},
   "source": [
    "# Titanic Notebook"
   ]
  },
  {
   "cell_type": "markdown",
   "id": "09379913",
   "metadata": {},
   "source": [
    "## Model Comparisons"
   ]
  },
  {
   "cell_type": "markdown",
   "id": "e40e8999",
   "metadata": {},
   "source": [
    "Here, I will try some classifiers to see which perform the best on the training data, and whichever performs the best will be the one I use for the test data."
   ]
  },
  {
   "cell_type": "code",
   "execution_count": null,
   "id": "949460e1",
   "metadata": {},
   "outputs": [],
   "source": []
  }
 ],
 "metadata": {
  "kernelspec": {
   "display_name": "Python 3 (ipykernel)",
   "language": "python",
   "name": "python3"
  },
  "language_info": {
   "codemirror_mode": {
    "name": "ipython",
    "version": 3
   },
   "file_extension": ".py",
   "mimetype": "text/x-python",
   "name": "python",
   "nbconvert_exporter": "python",
   "pygments_lexer": "ipython3",
   "version": "3.8.16"
  }
 },
 "nbformat": 4,
 "nbformat_minor": 5
}
